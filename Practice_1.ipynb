{
 "cells": [
  {
   "cell_type": "code",
   "execution_count": 1,
   "id": "46b536ea",
   "metadata": {},
   "outputs": [],
   "source": [
    "# Creating data frame\n",
    "import pandas as pd\n",
    "import numpy as np\n",
    "\n",
    "# pd.DataFrame(data, index, columns)"
   ]
  },
  {
   "cell_type": "code",
   "execution_count": 2,
   "id": "a830756d",
   "metadata": {},
   "outputs": [
    {
     "data": {
      "text/html": [
       "<div>\n",
       "<style scoped>\n",
       "    .dataframe tbody tr th:only-of-type {\n",
       "        vertical-align: middle;\n",
       "    }\n",
       "\n",
       "    .dataframe tbody tr th {\n",
       "        vertical-align: top;\n",
       "    }\n",
       "\n",
       "    .dataframe thead th {\n",
       "        text-align: right;\n",
       "    }\n",
       "</style>\n",
       "<table border=\"1\" class=\"dataframe\">\n",
       "  <thead>\n",
       "    <tr style=\"text-align: right;\">\n",
       "      <th></th>\n",
       "      <th>Name</th>\n",
       "      <th>Age</th>\n",
       "    </tr>\n",
       "  </thead>\n",
       "  <tbody>\n",
       "    <tr>\n",
       "      <th>0</th>\n",
       "      <td>jack</td>\n",
       "      <td>21.0</td>\n",
       "    </tr>\n",
       "    <tr>\n",
       "      <th>1</th>\n",
       "      <td>sam</td>\n",
       "      <td>30.0</td>\n",
       "    </tr>\n",
       "    <tr>\n",
       "      <th>2</th>\n",
       "      <td>radha</td>\n",
       "      <td>24.0</td>\n",
       "    </tr>\n",
       "    <tr>\n",
       "      <th>3</th>\n",
       "      <td>mrinal</td>\n",
       "      <td>-31.0</td>\n",
       "    </tr>\n",
       "    <tr>\n",
       "      <th>4</th>\n",
       "      <td>amit</td>\n",
       "      <td>NaN</td>\n",
       "    </tr>\n",
       "  </tbody>\n",
       "</table>\n",
       "</div>"
      ],
      "text/plain": [
       "     Name   Age\n",
       "0    jack  21.0\n",
       "1     sam  30.0\n",
       "2   radha  24.0\n",
       "3  mrinal -31.0\n",
       "4    amit   NaN"
      ]
     },
     "execution_count": 2,
     "metadata": {},
     "output_type": "execute_result"
    }
   ],
   "source": [
    "a= {'Name':['jack','sam','radha', 'mrinal','amit'],\n",
    "   'Age':[21,30,24,-31,np.nan]}\n",
    "df=pd.DataFrame(a,columns=['Name','Age'])\n",
    "df.head()"
   ]
  },
  {
   "cell_type": "code",
   "execution_count": 3,
   "id": "ce931759",
   "metadata": {},
   "outputs": [
    {
     "name": "stdout",
     "output_type": "stream",
     "text": [
      "<class 'pandas.core.frame.DataFrame'>\n",
      "RangeIndex: 5 entries, 0 to 4\n",
      "Data columns (total 2 columns):\n",
      " #   Column  Non-Null Count  Dtype  \n",
      "---  ------  --------------  -----  \n",
      " 0   Name    5 non-null      object \n",
      " 1   Age     4 non-null      float64\n",
      "dtypes: float64(1), object(1)\n",
      "memory usage: 208.0+ bytes\n"
     ]
    }
   ],
   "source": [
    "df.info()"
   ]
  },
  {
   "cell_type": "code",
   "execution_count": 4,
   "id": "8389f8a4",
   "metadata": {},
   "outputs": [
    {
     "data": {
      "text/plain": [
       "Name    0\n",
       "Age     1\n",
       "dtype: int64"
      ]
     },
     "execution_count": 4,
     "metadata": {},
     "output_type": "execute_result"
    }
   ],
   "source": [
    "df.isnull().sum()"
   ]
  },
  {
   "cell_type": "code",
   "execution_count": 5,
   "id": "9556b723",
   "metadata": {},
   "outputs": [],
   "source": [
    "# amking age to positve \n",
    "df['Age']=df['Age'].abs()"
   ]
  },
  {
   "cell_type": "code",
   "execution_count": 6,
   "id": "8ec435d1",
   "metadata": {},
   "outputs": [],
   "source": [
    "# Missing value imputation\n",
    "df['Age']=df['Age'].fillna(df.Age.mean())"
   ]
  },
  {
   "cell_type": "code",
   "execution_count": null,
   "id": "ed1934a8",
   "metadata": {},
   "outputs": [],
   "source": []
  },
  {
   "cell_type": "code",
   "execution_count": 7,
   "id": "217bb652",
   "metadata": {},
   "outputs": [
    {
     "name": "stdout",
     "output_type": "stream",
     "text": [
      "[1, 5, 2, 6]\n"
     ]
    }
   ],
   "source": [
    "l=[1,5,2,6]\n",
    "print(l)"
   ]
  },
  {
   "cell_type": "code",
   "execution_count": 8,
   "id": "2a6e9176",
   "metadata": {},
   "outputs": [
    {
     "name": "stdout",
     "output_type": "stream",
     "text": [
      "[1, 2, 5, 6]\n"
     ]
    }
   ],
   "source": [
    "l.sort()\n",
    "print(l)"
   ]
  },
  {
   "cell_type": "code",
   "execution_count": 9,
   "id": "bac1b53b",
   "metadata": {},
   "outputs": [],
   "source": [
    "# l.pop--- Indexing last element \n",
    "last=(l.pop())"
   ]
  },
  {
   "cell_type": "code",
   "execution_count": 10,
   "id": "1ad36821",
   "metadata": {},
   "outputs": [
    {
     "name": "stdout",
     "output_type": "stream",
     "text": [
      "range(0, 7)\n"
     ]
    }
   ],
   "source": [
    "c=range(0,(last+1))\n",
    "print(c)"
   ]
  },
  {
   "cell_type": "code",
   "execution_count": 11,
   "id": "bd4bd46c",
   "metadata": {},
   "outputs": [
    {
     "name": "stdout",
     "output_type": "stream",
     "text": [
      "[1, 2, 3, 4, 5, 6, 7]\n"
     ]
    }
   ],
   "source": [
    "e=[]\n",
    "for i in c:\n",
    "    e.append(i+1)\n",
    "    \n",
    "print(e)\n",
    "    "
   ]
  },
  {
   "cell_type": "code",
   "execution_count": 12,
   "id": "6ad892bc",
   "metadata": {},
   "outputs": [
    {
     "name": "stdout",
     "output_type": "stream",
     "text": [
      "[1, 2, 5]\n",
      "[1, 2, 3, 4, 5, 6, 7]\n"
     ]
    },
    {
     "data": {
      "text/plain": [
       "(None, None)"
      ]
     },
     "execution_count": 12,
     "metadata": {},
     "output_type": "execute_result"
    }
   ],
   "source": [
    "print(l), print(e)"
   ]
  },
  {
   "cell_type": "code",
   "execution_count": 13,
   "id": "fa36cf58",
   "metadata": {},
   "outputs": [],
   "source": [
    "list1=[1,2,3,4,5,6]\n",
    "list2=[5,6,7,8,9,9]\n",
    "\n"
   ]
  },
  {
   "cell_type": "code",
   "execution_count": 14,
   "id": "2bd6a6c9",
   "metadata": {},
   "outputs": [],
   "source": [
    "# find the common elements \n",
    "common=[]\n",
    "for i in list1:\n",
    "    if i in list2:\n",
    "        common.append(i)\n",
    "        \n",
    "    "
   ]
  },
  {
   "cell_type": "code",
   "execution_count": 15,
   "id": "97966da7",
   "metadata": {},
   "outputs": [
    {
     "data": {
      "text/plain": [
       "[5, 6]"
      ]
     },
     "execution_count": 15,
     "metadata": {},
     "output_type": "execute_result"
    }
   ],
   "source": [
    "common"
   ]
  },
  {
   "cell_type": "code",
   "execution_count": 16,
   "id": "fc1a8196",
   "metadata": {},
   "outputs": [],
   "source": [
    "no_match=[]\n",
    "for i in e:\n",
    "    if i not in l:\n",
    "        no_match.append(i)"
   ]
  },
  {
   "cell_type": "code",
   "execution_count": 17,
   "id": "d1d049a9",
   "metadata": {},
   "outputs": [
    {
     "data": {
      "text/plain": [
       "[3, 4, 6, 7]"
      ]
     },
     "execution_count": 17,
     "metadata": {},
     "output_type": "execute_result"
    }
   ],
   "source": [
    "no_match"
   ]
  },
  {
   "cell_type": "code",
   "execution_count": 18,
   "id": "3522ff8b",
   "metadata": {},
   "outputs": [
    {
     "data": {
      "text/plain": [
       "[0, 2, 4, 6, 8, 10, 12, 14, 16, 18]"
      ]
     },
     "execution_count": 18,
     "metadata": {},
     "output_type": "execute_result"
    }
   ],
   "source": [
    "[x for x in range(0,20) if x%2==0]"
   ]
  },
  {
   "cell_type": "code",
   "execution_count": 19,
   "id": "c42b26f3",
   "metadata": {},
   "outputs": [
    {
     "data": {
      "text/html": [
       "<div>\n",
       "<style scoped>\n",
       "    .dataframe tbody tr th:only-of-type {\n",
       "        vertical-align: middle;\n",
       "    }\n",
       "\n",
       "    .dataframe tbody tr th {\n",
       "        vertical-align: top;\n",
       "    }\n",
       "\n",
       "    .dataframe thead th {\n",
       "        text-align: right;\n",
       "    }\n",
       "</style>\n",
       "<table border=\"1\" class=\"dataframe\">\n",
       "  <thead>\n",
       "    <tr style=\"text-align: right;\">\n",
       "      <th></th>\n",
       "      <th>A</th>\n",
       "      <th>B</th>\n",
       "      <th>C</th>\n",
       "      <th>D</th>\n",
       "      <th>E</th>\n",
       "      <th>F</th>\n",
       "      <th>G</th>\n",
       "    </tr>\n",
       "  </thead>\n",
       "  <tbody>\n",
       "    <tr>\n",
       "      <th>0</th>\n",
       "      <td>1.865218</td>\n",
       "      <td>1.631483</td>\n",
       "      <td>0.791887</td>\n",
       "      <td>-0.040775</td>\n",
       "      <td>0.969393</td>\n",
       "      <td>-0.048510</td>\n",
       "      <td>0.793747</td>\n",
       "    </tr>\n",
       "    <tr>\n",
       "      <th>1</th>\n",
       "      <td>-0.220620</td>\n",
       "      <td>-0.165584</td>\n",
       "      <td>0.649839</td>\n",
       "      <td>-0.514585</td>\n",
       "      <td>-1.063507</td>\n",
       "      <td>-1.529167</td>\n",
       "      <td>-1.504340</td>\n",
       "    </tr>\n",
       "    <tr>\n",
       "      <th>2</th>\n",
       "      <td>-2.017825</td>\n",
       "      <td>1.638837</td>\n",
       "      <td>0.184978</td>\n",
       "      <td>-0.384640</td>\n",
       "      <td>2.141585</td>\n",
       "      <td>-1.549285</td>\n",
       "      <td>-0.999565</td>\n",
       "    </tr>\n",
       "    <tr>\n",
       "      <th>3</th>\n",
       "      <td>0.003369</td>\n",
       "      <td>1.423315</td>\n",
       "      <td>-0.662987</td>\n",
       "      <td>-0.715701</td>\n",
       "      <td>-1.538087</td>\n",
       "      <td>0.626906</td>\n",
       "      <td>-1.400248</td>\n",
       "    </tr>\n",
       "    <tr>\n",
       "      <th>4</th>\n",
       "      <td>-1.993489</td>\n",
       "      <td>-0.401440</td>\n",
       "      <td>-0.166187</td>\n",
       "      <td>0.241226</td>\n",
       "      <td>0.610880</td>\n",
       "      <td>0.203104</td>\n",
       "      <td>-1.585073</td>\n",
       "    </tr>\n",
       "  </tbody>\n",
       "</table>\n",
       "</div>"
      ],
      "text/plain": [
       "          A         B         C         D         E         F         G\n",
       "0  1.865218  1.631483  0.791887 -0.040775  0.969393 -0.048510  0.793747\n",
       "1 -0.220620 -0.165584  0.649839 -0.514585 -1.063507 -1.529167 -1.504340\n",
       "2 -2.017825  1.638837  0.184978 -0.384640  2.141585 -1.549285 -0.999565\n",
       "3  0.003369  1.423315 -0.662987 -0.715701 -1.538087  0.626906 -1.400248\n",
       "4 -1.993489 -0.401440 -0.166187  0.241226  0.610880  0.203104 -1.585073"
      ]
     },
     "execution_count": 19,
     "metadata": {},
     "output_type": "execute_result"
    }
   ],
   "source": [
    "# Creating Random data frame\n",
    "df=pd.DataFrame(np.random.randn(110,7),columns=list('ABCDEFG'))\n",
    "df.head()"
   ]
  },
  {
   "cell_type": "code",
   "execution_count": 20,
   "id": "549ae540",
   "metadata": {},
   "outputs": [
    {
     "data": {
      "text/html": [
       "<div>\n",
       "<style scoped>\n",
       "    .dataframe tbody tr th:only-of-type {\n",
       "        vertical-align: middle;\n",
       "    }\n",
       "\n",
       "    .dataframe tbody tr th {\n",
       "        vertical-align: top;\n",
       "    }\n",
       "\n",
       "    .dataframe thead th {\n",
       "        text-align: right;\n",
       "    }\n",
       "</style>\n",
       "<table border=\"1\" class=\"dataframe\">\n",
       "  <thead>\n",
       "    <tr style=\"text-align: right;\">\n",
       "      <th></th>\n",
       "      <th>A</th>\n",
       "      <th>B</th>\n",
       "      <th>C</th>\n",
       "      <th>D</th>\n",
       "      <th>E</th>\n",
       "      <th>F</th>\n",
       "      <th>G</th>\n",
       "    </tr>\n",
       "  </thead>\n",
       "  <tbody>\n",
       "    <tr>\n",
       "      <th>0</th>\n",
       "      <td>1.865218</td>\n",
       "      <td>1.631483</td>\n",
       "      <td>0.791887</td>\n",
       "      <td>0.040775</td>\n",
       "      <td>0.969393</td>\n",
       "      <td>0.048510</td>\n",
       "      <td>0.793747</td>\n",
       "    </tr>\n",
       "    <tr>\n",
       "      <th>1</th>\n",
       "      <td>0.220620</td>\n",
       "      <td>0.165584</td>\n",
       "      <td>0.649839</td>\n",
       "      <td>0.514585</td>\n",
       "      <td>1.063507</td>\n",
       "      <td>1.529167</td>\n",
       "      <td>1.504340</td>\n",
       "    </tr>\n",
       "    <tr>\n",
       "      <th>2</th>\n",
       "      <td>2.017825</td>\n",
       "      <td>1.638837</td>\n",
       "      <td>0.184978</td>\n",
       "      <td>0.384640</td>\n",
       "      <td>2.141585</td>\n",
       "      <td>1.549285</td>\n",
       "      <td>0.999565</td>\n",
       "    </tr>\n",
       "    <tr>\n",
       "      <th>3</th>\n",
       "      <td>0.003369</td>\n",
       "      <td>1.423315</td>\n",
       "      <td>0.662987</td>\n",
       "      <td>0.715701</td>\n",
       "      <td>1.538087</td>\n",
       "      <td>0.626906</td>\n",
       "      <td>1.400248</td>\n",
       "    </tr>\n",
       "    <tr>\n",
       "      <th>4</th>\n",
       "      <td>1.993489</td>\n",
       "      <td>0.401440</td>\n",
       "      <td>0.166187</td>\n",
       "      <td>0.241226</td>\n",
       "      <td>0.610880</td>\n",
       "      <td>0.203104</td>\n",
       "      <td>1.585073</td>\n",
       "    </tr>\n",
       "  </tbody>\n",
       "</table>\n",
       "</div>"
      ],
      "text/plain": [
       "          A         B         C         D         E         F         G\n",
       "0  1.865218  1.631483  0.791887  0.040775  0.969393  0.048510  0.793747\n",
       "1  0.220620  0.165584  0.649839  0.514585  1.063507  1.529167  1.504340\n",
       "2  2.017825  1.638837  0.184978  0.384640  2.141585  1.549285  0.999565\n",
       "3  0.003369  1.423315  0.662987  0.715701  1.538087  0.626906  1.400248\n",
       "4  1.993489  0.401440  0.166187  0.241226  0.610880  0.203104  1.585073"
      ]
     },
     "execution_count": 20,
     "metadata": {},
     "output_type": "execute_result"
    }
   ],
   "source": [
    "df=df.abs()\n",
    "df.head()"
   ]
  },
  {
   "cell_type": "code",
   "execution_count": 21,
   "id": "6a0e20dc",
   "metadata": {},
   "outputs": [
    {
     "data": {
      "text/plain": [
       "(110, 7)"
      ]
     },
     "execution_count": 21,
     "metadata": {},
     "output_type": "execute_result"
    }
   ],
   "source": [
    "df.shape"
   ]
  },
  {
   "cell_type": "code",
   "execution_count": 22,
   "id": "d03d59e9",
   "metadata": {},
   "outputs": [
    {
     "data": {
      "text/plain": [
       "A    0\n",
       "B    0\n",
       "C    0\n",
       "D    0\n",
       "E    0\n",
       "F    0\n",
       "G    0\n",
       "dtype: int64"
      ]
     },
     "execution_count": 22,
     "metadata": {},
     "output_type": "execute_result"
    }
   ],
   "source": [
    "df.isnull().sum()"
   ]
  },
  {
   "cell_type": "markdown",
   "id": "bc75d724",
   "metadata": {},
   "source": [
    "# Outlier removal"
   ]
  },
  {
   "cell_type": "code",
   "execution_count": 23,
   "id": "547a243b",
   "metadata": {},
   "outputs": [
    {
     "data": {
      "image/png": "[encoded data removed]",
      "text/plain": [
       "<Figure size 1000x600 with 1 Axes>"
      ]
     },
     "metadata": {},
     "output_type": "display_data"
    }
   ],
   "source": [
    "#pip install seaborn\n",
    "import matplotlib.pyplot as plt\n",
    "import seaborn as sns\n",
    "plt.figure(figsize=(10,6))\n",
    "plt.title(\"Box Plot\",fontsize=20)\n",
    "sns.boxplot(df)\n",
    "plt.show()"
   ]
  },
  {
   "cell_type": "code",
   "execution_count": 24,
   "id": "e69280af",
   "metadata": {},
   "outputs": [
    {
     "name": "stdout",
     "output_type": "stream",
     "text": [
      "0.27512772167958044 1.202255772397244\n"
     ]
    }
   ],
   "source": [
    "#outlier removal\n",
    "q1= df['A'].quantile(0.25)\n",
    "q3=df['A'].quantile(0.75)\n",
    "print(q1,q3)"
   ]
  },
  {
   "cell_type": "code",
   "execution_count": 25,
   "id": "7d6b7d09",
   "metadata": {},
   "outputs": [
    {
     "name": "stdout",
     "output_type": "stream",
     "text": [
      "0.27512772167958044\n"
     ]
    }
   ],
   "source": [
    "q11=np.percentile(df.A,25)\n",
    "print(q11)"
   ]
  },
  {
   "cell_type": "code",
   "execution_count": 26,
   "id": "3fd41bec",
   "metadata": {},
   "outputs": [
    {
     "name": "stdout",
     "output_type": "stream",
     "text": [
      "0.9271280507176636\n"
     ]
    }
   ],
   "source": [
    "# IQR\n",
    "iqr=q3-q1\n",
    "print(iqr)"
   ]
  },
  {
   "cell_type": "code",
   "execution_count": 27,
   "id": "c34c5528",
   "metadata": {},
   "outputs": [
    {
     "name": "stdout",
     "output_type": "stream",
     "text": [
      "-1.115564354396915 2.5929478484737394\n"
     ]
    }
   ],
   "source": [
    "# \n",
    "ub=q3+1.5*(iqr)\n",
    "lb=q1-1.5*(iqr)\n",
    "\n",
    "print(lb,ub)"
   ]
  },
  {
   "cell_type": "code",
   "execution_count": 28,
   "id": "38b1cdb8",
   "metadata": {},
   "outputs": [],
   "source": [
    "# Now outlier removal\n",
    "df['A']=np.where(df['A']>ub,ub,df['A'])\n",
    "#"
   ]
  },
  {
   "cell_type": "code",
   "execution_count": 29,
   "id": "57a21a07",
   "metadata": {},
   "outputs": [
    {
     "data": {
      "image/png": "[encoded data removed]",
      "text/plain": [
       "<Figure size 640x480 with 1 Axes>"
      ]
     },
     "metadata": {},
     "output_type": "display_data"
    }
   ],
   "source": [
    "sns.boxplot(df['A'])\n",
    "plt.show()"
   ]
  },
  {
   "cell_type": "code",
   "execution_count": 30,
   "id": "f33c5816",
   "metadata": {},
   "outputs": [],
   "source": [
    "outliers=[]\n",
    "def outlier_detection(data):\n",
    "    thres=3\n",
    "    mean=np.mean(data)\n",
    "    std=np.std(data)\n",
    "    print(mean,std)\n",
    "    for i in data:\n",
    "        z_score=(i-mean)/std\n",
    "        if (np.abs(z_score)>thres):\n",
    "            outliers.append(i)\n",
    "\n",
    "            \n",
    "            \n",
    "    return outliers\n",
    "    "
   ]
  },
  {
   "cell_type": "code",
   "execution_count": 31,
   "id": "7cde4a1d",
   "metadata": {},
   "outputs": [
    {
     "name": "stdout",
     "output_type": "stream",
     "text": [
      "0.8438099505799442 0.6235648554997781\n"
     ]
    }
   ],
   "source": [
    "sample=outlier_detection(df['A'])"
   ]
  },
  {
   "cell_type": "markdown",
   "id": "662f922e",
   "metadata": {},
   "source": [
    "# Correlation "
   ]
  },
  {
   "cell_type": "code",
   "execution_count": 32,
   "id": "d8cbf782",
   "metadata": {},
   "outputs": [
    {
     "data": {
      "text/html": [
       "<div>\n",
       "<style scoped>\n",
       "    .dataframe tbody tr th:only-of-type {\n",
       "        vertical-align: middle;\n",
       "    }\n",
       "\n",
       "    .dataframe tbody tr th {\n",
       "        vertical-align: top;\n",
       "    }\n",
       "\n",
       "    .dataframe thead th {\n",
       "        text-align: right;\n",
       "    }\n",
       "</style>\n",
       "<table border=\"1\" class=\"dataframe\">\n",
       "  <thead>\n",
       "    <tr style=\"text-align: right;\">\n",
       "      <th></th>\n",
       "      <th>A</th>\n",
       "      <th>B</th>\n",
       "      <th>C</th>\n",
       "      <th>D</th>\n",
       "      <th>E</th>\n",
       "      <th>F</th>\n",
       "      <th>G</th>\n",
       "    </tr>\n",
       "  </thead>\n",
       "  <tbody>\n",
       "    <tr>\n",
       "      <th>A</th>\n",
       "      <td>1.000000</td>\n",
       "      <td>0.051087</td>\n",
       "      <td>-0.186823</td>\n",
       "      <td>-0.127119</td>\n",
       "      <td>-0.125077</td>\n",
       "      <td>-0.049500</td>\n",
       "      <td>-0.035942</td>\n",
       "    </tr>\n",
       "    <tr>\n",
       "      <th>B</th>\n",
       "      <td>0.051087</td>\n",
       "      <td>1.000000</td>\n",
       "      <td>0.046426</td>\n",
       "      <td>-0.044407</td>\n",
       "      <td>0.049445</td>\n",
       "      <td>0.115176</td>\n",
       "      <td>-0.078805</td>\n",
       "    </tr>\n",
       "    <tr>\n",
       "      <th>C</th>\n",
       "      <td>-0.186823</td>\n",
       "      <td>0.046426</td>\n",
       "      <td>1.000000</td>\n",
       "      <td>0.055636</td>\n",
       "      <td>0.033021</td>\n",
       "      <td>-0.070606</td>\n",
       "      <td>-0.102582</td>\n",
       "    </tr>\n",
       "    <tr>\n",
       "      <th>D</th>\n",
       "      <td>-0.127119</td>\n",
       "      <td>-0.044407</td>\n",
       "      <td>0.055636</td>\n",
       "      <td>1.000000</td>\n",
       "      <td>-0.067562</td>\n",
       "      <td>-0.067390</td>\n",
       "      <td>-0.000623</td>\n",
       "    </tr>\n",
       "    <tr>\n",
       "      <th>E</th>\n",
       "      <td>-0.125077</td>\n",
       "      <td>0.049445</td>\n",
       "      <td>0.033021</td>\n",
       "      <td>-0.067562</td>\n",
       "      <td>1.000000</td>\n",
       "      <td>-0.038363</td>\n",
       "      <td>-0.084535</td>\n",
       "    </tr>\n",
       "    <tr>\n",
       "      <th>F</th>\n",
       "      <td>-0.049500</td>\n",
       "      <td>0.115176</td>\n",
       "      <td>-0.070606</td>\n",
       "      <td>-0.067390</td>\n",
       "      <td>-0.038363</td>\n",
       "      <td>1.000000</td>\n",
       "      <td>-0.011157</td>\n",
       "    </tr>\n",
       "    <tr>\n",
       "      <th>G</th>\n",
       "      <td>-0.035942</td>\n",
       "      <td>-0.078805</td>\n",
       "      <td>-0.102582</td>\n",
       "      <td>-0.000623</td>\n",
       "      <td>-0.084535</td>\n",
       "      <td>-0.011157</td>\n",
       "      <td>1.000000</td>\n",
       "    </tr>\n",
       "  </tbody>\n",
       "</table>\n",
       "</div>"
      ],
      "text/plain": [
       "          A         B         C         D         E         F         G\n",
       "A  1.000000  0.051087 -0.186823 -0.127119 -0.125077 -0.049500 -0.035942\n",
       "B  0.051087  1.000000  0.046426 -0.044407  0.049445  0.115176 -0.078805\n",
       "C -0.186823  0.046426  1.000000  0.055636  0.033021 -0.070606 -0.102582\n",
       "D -0.127119 -0.044407  0.055636  1.000000 -0.067562 -0.067390 -0.000623\n",
       "E -0.125077  0.049445  0.033021 -0.067562  1.000000 -0.038363 -0.084535\n",
       "F -0.049500  0.115176 -0.070606 -0.067390 -0.038363  1.000000 -0.011157\n",
       "G -0.035942 -0.078805 -0.102582 -0.000623 -0.084535 -0.011157  1.000000"
      ]
     },
     "execution_count": 32,
     "metadata": {},
     "output_type": "execute_result"
    }
   ],
   "source": [
    "df.corr()"
   ]
  },
  {
   "cell_type": "code",
   "execution_count": 33,
   "id": "6153e566",
   "metadata": {},
   "outputs": [
    {
     "data": {
      "image/png": "[encoded data removed]",
      "text/plain": [
       "<Figure size 1000x600 with 2 Axes>"
      ]
     },
     "metadata": {},
     "output_type": "display_data"
    }
   ],
   "source": [
    "plt.figure(figsize=(10,6))\n",
    "sns.heatmap(df.corr(),annot = True, cmap = \"RdYlGn\")\n",
    "plt.show()"
   ]
  },
  {
   "cell_type": "markdown",
   "id": "1319f615",
   "metadata": {},
   "source": [
    "# Standarization splitting of data"
   ]
  },
  {
   "cell_type": "code",
   "execution_count": 34,
   "id": "809fab55",
   "metadata": {},
   "outputs": [],
   "source": [
    "train=df.drop('G',axis=1)\n",
    "test=df['G']\n",
    "\n"
   ]
  },
  {
   "cell_type": "code",
   "execution_count": 35,
   "id": "d152c1e0",
   "metadata": {},
   "outputs": [],
   "source": [
    "#!pip install scikit-learn\n",
    "from sklearn.model_selection import train_test_split\n",
    "X_train,X_test,y_train,y_test=train_test_split(train,test,test_size=0.25,random_state=0)"
   ]
  },
  {
   "cell_type": "code",
   "execution_count": 41,
   "id": "4df82c5e",
   "metadata": {},
   "outputs": [],
   "source": [
    "from sklearn.preprocessing import StandardScaler\n",
    "scaler=StandardScaler()\n",
    "\n",
    "X_train_sc=scaler.fit_transform(X_train)\n",
    "\n",
    "X_test_sc=scaler.transform(X_test)"
   ]
  },
  {
   "cell_type": "markdown",
   "id": "8cfded5a",
   "metadata": {},
   "source": [
    "# Building MLR Model "
   ]
  },
  {
   "cell_type": "code",
   "execution_count": 43,
   "id": "5c179a6c",
   "metadata": {},
   "outputs": [
    {
     "data": {
      "text/html": [
       "<style>#sk-container-id-1 {color: black;background-color: white;}#sk-container-id-1 pre{padding: 0;}#sk-container-id-1 div.sk-toggleable {background-color: white;}#sk-container-id-1 label.sk-toggleable__label {cursor: pointer;display: block;width: 100%;margin-bottom: 0;padding: 0.3em;box-sizing: border-box;text-align: center;}#sk-container-id-1 label.sk-toggleable__label-arrow:before {content: \"▸\";float: left;margin-right: 0.25em;color: #696969;}#sk-container-id-1 label.sk-toggleable__label-arrow:hover:before {color: black;}#sk-container-id-1 div.sk-estimator:hover label.sk-toggleable__label-arrow:before {color: black;}#sk-container-id-1 div.sk-toggleable__content {max-height: 0;max-width: 0;overflow: hidden;text-align: left;background-color: #f0f8ff;}#sk-container-id-1 div.sk-toggleable__content pre {margin: 0.2em;color: black;border-radius: 0.25em;background-color: #f0f8ff;}#sk-container-id-1 input.sk-toggleable__control:checked~div.sk-toggleable__content {max-height: 200px;max-width: 100%;overflow: auto;}#sk-container-id-1 input.sk-toggleable__control:checked~label.sk-toggleable__label-arrow:before {content: \"▾\";}#sk-container-id-1 div.sk-estimator input.sk-toggleable__control:checked~label.sk-toggleable__label {background-color: #d4ebff;}#sk-container-id-1 div.sk-label input.sk-toggleable__control:checked~label.sk-toggleable__label {background-color: #d4ebff;}#sk-container-id-1 input.sk-hidden--visually {border: 0;clip: rect(1px 1px 1px 1px);clip: rect(1px, 1px, 1px, 1px);height: 1px;margin: -1px;overflow: hidden;padding: 0;position: absolute;width: 1px;}#sk-container-id-1 div.sk-estimator {font-family: monospace;background-color: #f0f8ff;border: 1px dotted black;border-radius: 0.25em;box-sizing: border-box;margin-bottom: 0.5em;}#sk-container-id-1 div.sk-estimator:hover {background-color: #d4ebff;}#sk-container-id-1 div.sk-parallel-item::after {content: \"\";width: 100%;border-bottom: 1px solid gray;flex-grow: 1;}#sk-container-id-1 div.sk-label:hover label.sk-toggleable__label {background-color: #d4ebff;}#sk-container-id-1 div.sk-serial::before {content: \"\";position: absolute;border-left: 1px solid gray;box-sizing: border-box;top: 0;bottom: 0;left: 50%;z-index: 0;}#sk-container-id-1 div.sk-serial {display: flex;flex-direction: column;align-items: center;background-color: white;padding-right: 0.2em;padding-left: 0.2em;position: relative;}#sk-container-id-1 div.sk-item {position: relative;z-index: 1;}#sk-container-id-1 div.sk-parallel {display: flex;align-items: stretch;justify-content: center;background-color: white;position: relative;}#sk-container-id-1 div.sk-item::before, #sk-container-id-1 div.sk-parallel-item::before {content: \"\";position: absolute;border-left: 1px solid gray;box-sizing: border-box;top: 0;bottom: 0;left: 50%;z-index: -1;}#sk-container-id-1 div.sk-parallel-item {display: flex;flex-direction: column;z-index: 1;position: relative;background-color: white;}#sk-container-id-1 div.sk-parallel-item:first-child::after {align-self: flex-end;width: 50%;}#sk-container-id-1 div.sk-parallel-item:last-child::after {align-self: flex-start;width: 50%;}#sk-container-id-1 div.sk-parallel-item:only-child::after {width: 0;}#sk-container-id-1 div.sk-dashed-wrapped {border: 1px dashed gray;margin: 0 0.4em 0.5em 0.4em;box-sizing: border-box;padding-bottom: 0.4em;background-color: white;}#sk-container-id-1 div.sk-label label {font-family: monospace;font-weight: bold;display: inline-block;line-height: 1.2em;}#sk-container-id-1 div.sk-label-container {text-align: center;}#sk-container-id-1 div.sk-container {/* jupyter's `normalize.less` sets `[hidden] { display: none; }` but bootstrap.min.css set `[hidden] { display: none !important; }` so we also need the `!important` here to be able to override the default hidden behavior on the sphinx rendered scikit-learn.org. See: https://github.com/scikit-learn/scikit-learn/issues/21755 */display: inline-block !important;position: relative;}#sk-container-id-1 div.sk-text-repr-fallback {display: none;}</style><div id=\"sk-container-id-1\" class=\"sk-top-container\"><div class=\"sk-text-repr-fallback\"><pre>LinearRegression()</pre><b>In a Jupyter environment, please rerun this cell to show the HTML representation or trust the notebook. <br />On GitHub, the HTML representation is unable to render, please try loading this page with nbviewer.org.</b></div><div class=\"sk-container\" hidden><div class=\"sk-item\"><div class=\"sk-estimator sk-toggleable\"><input class=\"sk-toggleable__control sk-hidden--visually\" id=\"sk-estimator-id-1\" type=\"checkbox\" checked><label for=\"sk-estimator-id-1\" class=\"sk-toggleable__label sk-toggleable__label-arrow\">LinearRegression</label><div class=\"sk-toggleable__content\"><pre>LinearRegression()</pre></div></div></div></div></div>"
      ],
      "text/plain": [
       "LinearRegression()"
      ]
     },
     "execution_count": 43,
     "metadata": {},
     "output_type": "execute_result"
    }
   ],
   "source": [
    "from sklearn.linear_model import LinearRegression\n",
    "lr=LinearRegression()\n",
    "lr.fit(X_train_sc,y_train)"
   ]
  },
  {
   "cell_type": "code",
   "execution_count": 45,
   "id": "d5d1692b",
   "metadata": {},
   "outputs": [
    {
     "data": {
      "text/plain": [
       "array([0.57796939, 0.71161536, 0.59366309, 0.3692372 , 0.72014437,\n",
       "       0.5484535 , 0.83509259, 0.66844521, 0.56047984, 0.86086636,\n",
       "       0.80059161, 0.64615614, 1.02592529, 0.97234667, 0.56659305,\n",
       "       0.87154532, 0.69201901, 0.64043558, 0.97210725, 0.64411787,\n",
       "       0.96557503, 0.72322895, 0.89075558, 0.76392435, 0.59180975,\n",
       "       0.75270386, 0.98920721, 0.56574902])"
      ]
     },
     "execution_count": 45,
     "metadata": {},
     "output_type": "execute_result"
    }
   ],
   "source": [
    "y_pred= lr.predict(X_test_sc)\n",
    "y_pred"
   ]
  },
  {
   "cell_type": "markdown",
   "id": "626d5c5e",
   "metadata": {},
   "source": [
    "### Evaluation metrix"
   ]
  },
  {
   "cell_type": "code",
   "execution_count": 50,
   "id": "aebf4f88",
   "metadata": {},
   "outputs": [
    {
     "name": "stdout",
     "output_type": "stream",
     "text": [
      "The rmse: 0.5555522670352865\n",
      "mae: 0.47689518206348275\n"
     ]
    }
   ],
   "source": [
    "from sklearn.metrics import mean_squared_error,mean_absolute_error\n",
    "from math import sqrt\n",
    "mse= mean_squared_error(y_test,y_pred)\n",
    "rmse=sqrt(mse)\n",
    "print('The rmse:', rmse)\n",
    "mae=mean_absolute_error(y_test,y_pred)\n",
    "print(\"mae:\",mae)"
   ]
  },
  {
   "cell_type": "code",
   "execution_count": 52,
   "id": "60d3f1cd",
   "metadata": {},
   "outputs": [
    {
     "name": "stdout",
     "output_type": "stream",
     "text": [
      "-0.3029200883592791\n",
      "0.06210937798002025\n"
     ]
    }
   ],
   "source": [
    "print(lr.score(X_test_sc,y_test))\n",
    "print(lr.score(X_train_sc,y_train))"
   ]
  },
  {
   "cell_type": "code",
   "execution_count": null,
   "id": "571a1348",
   "metadata": {},
   "outputs": [],
   "source": []
  }
 ],
 "metadata": {
  "kernelspec": {
   "display_name": "Python 3 (ipykernel)",
   "language": "python",
   "name": "python3"
  },
  "language_info": {
   "codemirror_mode": {
    "name": "ipython",
    "version": 3
   },
   "file_extension": ".py",
   "mimetype": "text/x-python",
   "name": "python",
   "nbconvert_exporter": "python",
   "pygments_lexer": "ipython3",
   "version": "3.10.6"
  }
 },
 "nbformat": 4,
 "nbformat_minor": 5
}
